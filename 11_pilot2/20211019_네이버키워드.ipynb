{
 "cells": [
  {
   "cell_type": "code",
   "execution_count": 1,
   "id": "3206d536",
   "metadata": {},
   "outputs": [],
   "source": [
    "import pandas as pd"
   ]
  },
  {
   "cell_type": "code",
   "execution_count": 29,
   "id": "fef7ad15",
   "metadata": {
    "scrolled": false
   },
   "outputs": [
    {
     "data": {
      "text/html": [
       "<div>\n",
       "<style scoped>\n",
       "    .dataframe tbody tr th:only-of-type {\n",
       "        vertical-align: middle;\n",
       "    }\n",
       "\n",
       "    .dataframe tbody tr th {\n",
       "        vertical-align: top;\n",
       "    }\n",
       "\n",
       "    .dataframe thead th {\n",
       "        text-align: right;\n",
       "    }\n",
       "</style>\n",
       "<table border=\"1\" class=\"dataframe\">\n",
       "  <thead>\n",
       "    <tr style=\"text-align: right;\">\n",
       "      <th></th>\n",
       "      <th>연관키워드</th>\n",
       "      <th>월간검색수(PC)</th>\n",
       "      <th>월간검색수(모바일)</th>\n",
       "      <th>월평균클릭수(PC)</th>\n",
       "      <th>월평균클릭수(모바일)</th>\n",
       "      <th>월평균클릭률(PC)</th>\n",
       "      <th>월평균클릭률(모바일)</th>\n",
       "      <th>경쟁정도</th>\n",
       "      <th>월평균노출광고수</th>\n",
       "    </tr>\n",
       "  </thead>\n",
       "  <tbody>\n",
       "    <tr>\n",
       "      <th>0</th>\n",
       "      <td>홈트</td>\n",
       "      <td>4,110</td>\n",
       "      <td>17,000</td>\n",
       "      <td>17.5</td>\n",
       "      <td>249</td>\n",
       "      <td>0.46%</td>\n",
       "      <td>1.55%</td>\n",
       "      <td>높음</td>\n",
       "      <td>15</td>\n",
       "    </tr>\n",
       "    <tr>\n",
       "      <th>1</th>\n",
       "      <td>운동기구</td>\n",
       "      <td>4,180</td>\n",
       "      <td>20,000</td>\n",
       "      <td>41.1</td>\n",
       "      <td>366.5</td>\n",
       "      <td>1.05%</td>\n",
       "      <td>1.96%</td>\n",
       "      <td>높음</td>\n",
       "      <td>15</td>\n",
       "    </tr>\n",
       "    <tr>\n",
       "      <th>2</th>\n",
       "      <td>헬스</td>\n",
       "      <td>6,080</td>\n",
       "      <td>48,500</td>\n",
       "      <td>6.1</td>\n",
       "      <td>46.5</td>\n",
       "      <td>0.11%</td>\n",
       "      <td>0.11%</td>\n",
       "      <td>높음</td>\n",
       "      <td>15</td>\n",
       "    </tr>\n",
       "    <tr>\n",
       "      <th>3</th>\n",
       "      <td>홈트레이닝</td>\n",
       "      <td>3,090</td>\n",
       "      <td>5,600</td>\n",
       "      <td>10.3</td>\n",
       "      <td>91.8</td>\n",
       "      <td>0.35%</td>\n",
       "      <td>1.75%</td>\n",
       "      <td>높음</td>\n",
       "      <td>15</td>\n",
       "    </tr>\n",
       "    <tr>\n",
       "      <th>4</th>\n",
       "      <td>홈트레이닝기구</td>\n",
       "      <td>3,640</td>\n",
       "      <td>16,600</td>\n",
       "      <td>35.2</td>\n",
       "      <td>301.5</td>\n",
       "      <td>1.02%</td>\n",
       "      <td>1.94%</td>\n",
       "      <td>높음</td>\n",
       "      <td>15</td>\n",
       "    </tr>\n",
       "    <tr>\n",
       "      <th>...</th>\n",
       "      <td>...</td>\n",
       "      <td>...</td>\n",
       "      <td>...</td>\n",
       "      <td>...</td>\n",
       "      <td>...</td>\n",
       "      <td>...</td>\n",
       "      <td>...</td>\n",
       "      <td>...</td>\n",
       "      <td>...</td>\n",
       "    </tr>\n",
       "    <tr>\n",
       "      <th>995</th>\n",
       "      <td>구로댄스학원</td>\n",
       "      <td>10</td>\n",
       "      <td>80</td>\n",
       "      <td>0.8</td>\n",
       "      <td>6</td>\n",
       "      <td>4.96%</td>\n",
       "      <td>7.9%</td>\n",
       "      <td>중간</td>\n",
       "      <td>8</td>\n",
       "    </tr>\n",
       "    <tr>\n",
       "      <th>996</th>\n",
       "      <td>구미스쿼시</td>\n",
       "      <td>40</td>\n",
       "      <td>330</td>\n",
       "      <td>0.0</td>\n",
       "      <td>1.4</td>\n",
       "      <td>0%</td>\n",
       "      <td>0.47%</td>\n",
       "      <td>중간</td>\n",
       "      <td>1</td>\n",
       "    </tr>\n",
       "    <tr>\n",
       "      <th>997</th>\n",
       "      <td>중년다이어트</td>\n",
       "      <td>190</td>\n",
       "      <td>2,040</td>\n",
       "      <td>1.5</td>\n",
       "      <td>2</td>\n",
       "      <td>0.84%</td>\n",
       "      <td>0.11%</td>\n",
       "      <td>높음</td>\n",
       "      <td>15</td>\n",
       "    </tr>\n",
       "    <tr>\n",
       "      <th>998</th>\n",
       "      <td>PT후기</td>\n",
       "      <td>240</td>\n",
       "      <td>840</td>\n",
       "      <td>0.2</td>\n",
       "      <td>3.3</td>\n",
       "      <td>0.09%</td>\n",
       "      <td>0.41%</td>\n",
       "      <td>높음</td>\n",
       "      <td>15</td>\n",
       "    </tr>\n",
       "    <tr>\n",
       "      <th>999</th>\n",
       "      <td>SNPE수업</td>\n",
       "      <td>10</td>\n",
       "      <td>30</td>\n",
       "      <td>0.3</td>\n",
       "      <td>0</td>\n",
       "      <td>4.77%</td>\n",
       "      <td>0%</td>\n",
       "      <td>높음</td>\n",
       "      <td>3</td>\n",
       "    </tr>\n",
       "  </tbody>\n",
       "</table>\n",
       "<p>1000 rows × 9 columns</p>\n",
       "</div>"
      ],
      "text/plain": [
       "       연관키워드 월간검색수(PC) 월간검색수(모바일)  월평균클릭수(PC) 월평균클릭수(모바일) 월평균클릭률(PC)  \\\n",
       "0         홈트     4,110     17,000        17.5         249      0.46%   \n",
       "1       운동기구     4,180     20,000        41.1       366.5      1.05%   \n",
       "2         헬스     6,080     48,500         6.1        46.5      0.11%   \n",
       "3      홈트레이닝     3,090      5,600        10.3        91.8      0.35%   \n",
       "4    홈트레이닝기구     3,640     16,600        35.2       301.5      1.02%   \n",
       "..       ...       ...        ...         ...         ...        ...   \n",
       "995   구로댄스학원        10         80         0.8           6      4.96%   \n",
       "996    구미스쿼시        40        330         0.0         1.4         0%   \n",
       "997   중년다이어트       190      2,040         1.5           2      0.84%   \n",
       "998     PT후기       240        840         0.2         3.3      0.09%   \n",
       "999   SNPE수업        10         30         0.3           0      4.77%   \n",
       "\n",
       "    월평균클릭률(모바일) 경쟁정도  월평균노출광고수  \n",
       "0         1.55%   높음        15  \n",
       "1         1.96%   높음        15  \n",
       "2         0.11%   높음        15  \n",
       "3         1.75%   높음        15  \n",
       "4         1.94%   높음        15  \n",
       "..          ...  ...       ...  \n",
       "995        7.9%   중간         8  \n",
       "996       0.47%   중간         1  \n",
       "997       0.11%   높음        15  \n",
       "998       0.41%   높음        15  \n",
       "999          0%   높음         3  \n",
       "\n",
       "[1000 rows x 9 columns]"
      ]
     },
     "execution_count": 29,
     "metadata": {},
     "output_type": "execute_result"
    }
   ],
   "source": [
    "data= pd.read_excel(\"키워드_20211019.xlsx\")\n",
    "test= pd.read_excel(\"키워드_20211019.xlsx\")\n",
    "train= pd.read_excel(\"키워드_20211019.xlsx\")\n",
    "train.shape, test.shape\n",
    "data"
   ]
  },
  {
   "cell_type": "code",
   "execution_count": 7,
   "id": "ac646d3a",
   "metadata": {},
   "outputs": [
    {
     "data": {
      "text/plain": [
       "(1000, 9)"
      ]
     },
     "execution_count": 7,
     "metadata": {},
     "output_type": "execute_result"
    }
   ],
   "source": [
    "data.shape"
   ]
  },
  {
   "cell_type": "code",
   "execution_count": 8,
   "id": "16f021d3",
   "metadata": {},
   "outputs": [
    {
     "name": "stdout",
     "output_type": "stream",
     "text": [
      "<class 'pandas.core.frame.DataFrame'>\n",
      "RangeIndex: 1000 entries, 0 to 999\n",
      "Data columns (total 9 columns):\n",
      " #   Column       Non-Null Count  Dtype  \n",
      "---  ------       --------------  -----  \n",
      " 0   연관키워드        1000 non-null   object \n",
      " 1   월간검색수(PC)    1000 non-null   object \n",
      " 2   월간검색수(모바일)   1000 non-null   object \n",
      " 3   월평균클릭수(PC)   1000 non-null   float64\n",
      " 4   월평균클릭수(모바일)  1000 non-null   object \n",
      " 5   월평균클릭률(PC)   1000 non-null   object \n",
      " 6   월평균클릭률(모바일)  1000 non-null   object \n",
      " 7   경쟁정도         1000 non-null   object \n",
      " 8   월평균노출광고수     1000 non-null   int64  \n",
      "dtypes: float64(1), int64(1), object(7)\n",
      "memory usage: 70.4+ KB\n"
     ]
    }
   ],
   "source": [
    "data.info()"
   ]
  },
  {
   "cell_type": "code",
   "execution_count": 12,
   "id": "8bf433c0",
   "metadata": {},
   "outputs": [
    {
     "data": {
      "text/html": [
       "<div>\n",
       "<style scoped>\n",
       "    .dataframe tbody tr th:only-of-type {\n",
       "        vertical-align: middle;\n",
       "    }\n",
       "\n",
       "    .dataframe tbody tr th {\n",
       "        vertical-align: top;\n",
       "    }\n",
       "\n",
       "    .dataframe thead th {\n",
       "        text-align: right;\n",
       "    }\n",
       "</style>\n",
       "<table border=\"1\" class=\"dataframe\">\n",
       "  <thead>\n",
       "    <tr style=\"text-align: right;\">\n",
       "      <th></th>\n",
       "      <th>연관키워드</th>\n",
       "      <th>월간검색수(PC)</th>\n",
       "      <th>월간검색수(모바일)</th>\n",
       "      <th>월평균클릭수(PC)</th>\n",
       "      <th>월평균클릭수(모바일)</th>\n",
       "      <th>월평균클릭률(PC)</th>\n",
       "      <th>월평균클릭률(모바일)</th>\n",
       "      <th>경쟁정도</th>\n",
       "      <th>월평균노출광고수</th>\n",
       "    </tr>\n",
       "  </thead>\n",
       "  <tbody>\n",
       "    <tr>\n",
       "      <th>0</th>\n",
       "      <td>홈트</td>\n",
       "      <td>4,110</td>\n",
       "      <td>17,000</td>\n",
       "      <td>17.5</td>\n",
       "      <td>249</td>\n",
       "      <td>0.46%</td>\n",
       "      <td>1.55%</td>\n",
       "      <td>높음</td>\n",
       "      <td>15</td>\n",
       "    </tr>\n",
       "    <tr>\n",
       "      <th>1</th>\n",
       "      <td>운동기구</td>\n",
       "      <td>4,180</td>\n",
       "      <td>20,000</td>\n",
       "      <td>41.1</td>\n",
       "      <td>366.5</td>\n",
       "      <td>1.05%</td>\n",
       "      <td>1.96%</td>\n",
       "      <td>높음</td>\n",
       "      <td>15</td>\n",
       "    </tr>\n",
       "    <tr>\n",
       "      <th>2</th>\n",
       "      <td>헬스</td>\n",
       "      <td>6,080</td>\n",
       "      <td>48,500</td>\n",
       "      <td>6.1</td>\n",
       "      <td>46.5</td>\n",
       "      <td>0.11%</td>\n",
       "      <td>0.11%</td>\n",
       "      <td>높음</td>\n",
       "      <td>15</td>\n",
       "    </tr>\n",
       "    <tr>\n",
       "      <th>3</th>\n",
       "      <td>홈트레이닝</td>\n",
       "      <td>3,090</td>\n",
       "      <td>5,600</td>\n",
       "      <td>10.3</td>\n",
       "      <td>91.8</td>\n",
       "      <td>0.35%</td>\n",
       "      <td>1.75%</td>\n",
       "      <td>높음</td>\n",
       "      <td>15</td>\n",
       "    </tr>\n",
       "    <tr>\n",
       "      <th>4</th>\n",
       "      <td>홈트레이닝기구</td>\n",
       "      <td>3,640</td>\n",
       "      <td>16,600</td>\n",
       "      <td>35.2</td>\n",
       "      <td>301.5</td>\n",
       "      <td>1.02%</td>\n",
       "      <td>1.94%</td>\n",
       "      <td>높음</td>\n",
       "      <td>15</td>\n",
       "    </tr>\n",
       "  </tbody>\n",
       "</table>\n",
       "</div>"
      ],
      "text/plain": [
       "     연관키워드 월간검색수(PC) 월간검색수(모바일)  월평균클릭수(PC) 월평균클릭수(모바일) 월평균클릭률(PC)  \\\n",
       "0       홈트     4,110     17,000        17.5         249      0.46%   \n",
       "1     운동기구     4,180     20,000        41.1       366.5      1.05%   \n",
       "2       헬스     6,080     48,500         6.1        46.5      0.11%   \n",
       "3    홈트레이닝     3,090      5,600        10.3        91.8      0.35%   \n",
       "4  홈트레이닝기구     3,640     16,600        35.2       301.5      1.02%   \n",
       "\n",
       "  월평균클릭률(모바일) 경쟁정도  월평균노출광고수  \n",
       "0       1.55%   높음        15  \n",
       "1       1.96%   높음        15  \n",
       "2       0.11%   높음        15  \n",
       "3       1.75%   높음        15  \n",
       "4       1.94%   높음        15  "
      ]
     },
     "execution_count": 12,
     "metadata": {},
     "output_type": "execute_result"
    }
   ],
   "source": [
    "data.head()"
   ]
  },
  {
   "cell_type": "code",
   "execution_count": 45,
   "id": "517226e2",
   "metadata": {},
   "outputs": [],
   "source": [
    "from sklearn.ensemble import RandomForestRegressor"
   ]
  },
  {
   "cell_type": "code",
   "execution_count": 21,
   "id": "b7207476",
   "metadata": {},
   "outputs": [],
   "source": [
    "import mglearn\n",
    "import sklearn\n",
    "from sklearn.model_selection import train_test_split\n",
    "from sklearn.linear_model import LinearRegression\n"
   ]
  },
  {
   "cell_type": "code",
   "execution_count": 25,
   "id": "19b0af06",
   "metadata": {},
   "outputs": [],
   "source": [
    "from sklearn.linear_model import LogisticRegression"
   ]
  },
  {
   "cell_type": "code",
   "execution_count": 37,
   "id": "b37a6391",
   "metadata": {},
   "outputs": [],
   "source": [
    "sel=['월평균노출광고수']\n",
    "X = train[sel]\n",
    "y = train['월평균클릭수(PC)']\n",
    "\n",
    "X_train, X_test, y_train, y_test= train_test_split(X, y, random_state=11)\n"
   ]
  },
  {
   "cell_type": "code",
   "execution_count": 38,
   "id": "0484da61",
   "metadata": {},
   "outputs": [
    {
     "data": {
      "text/plain": [
       "LinearRegression()"
      ]
     },
     "execution_count": 38,
     "metadata": {},
     "output_type": "execute_result"
    }
   ],
   "source": [
    "model=LinearRegression()\n",
    "model.fit(X_train, y_train)"
   ]
  },
  {
   "cell_type": "code",
   "execution_count": 40,
   "id": "bab24748",
   "metadata": {},
   "outputs": [],
   "source": [
    "from sklearn.model_selection import cross_val_score"
   ]
  },
  {
   "cell_type": "code",
   "execution_count": 42,
   "id": "025eb024",
   "metadata": {},
   "outputs": [
    {
     "name": "stdout",
     "output_type": "stream",
     "text": [
      "교차 검증 점수 : [ 0.00884683 -0.02419359  0.03075809  0.02508961  0.01065534]\n"
     ]
    }
   ],
   "source": [
    "scores = cross_val_score(model, X_train, y_train)\n",
    "print(\"교차 검증 점수 : {}\".format(scores))"
   ]
  },
  {
   "cell_type": "code",
   "execution_count": 47,
   "id": "ee915e10",
   "metadata": {},
   "outputs": [
    {
     "name": "stdout",
     "output_type": "stream",
     "text": [
      "교차 검증 점수 : [ 0.01149929 -0.01206496  0.02387868  0.02755652  0.01341221]\n"
     ]
    }
   ],
   "source": [
    "model=RandomForestRegressor()\n",
    "model.fit(X_train, y_train)\n",
    "\n",
    "scores = cross_val_score(model, X_train, y_train)\n",
    "print(\"교차 검증 점수 : {}\".format(scores))"
   ]
  },
  {
   "cell_type": "code",
   "execution_count": null,
   "id": "72fc0556",
   "metadata": {},
   "outputs": [],
   "source": []
  }
 ],
 "metadata": {
  "kernelspec": {
   "display_name": "Python 3",
   "language": "python",
   "name": "python3"
  },
  "language_info": {
   "codemirror_mode": {
    "name": "ipython",
    "version": 3
   },
   "file_extension": ".py",
   "mimetype": "text/x-python",
   "name": "python",
   "nbconvert_exporter": "python",
   "pygments_lexer": "ipython3",
   "version": "3.8.8"
  }
 },
 "nbformat": 4,
 "nbformat_minor": 5
}
