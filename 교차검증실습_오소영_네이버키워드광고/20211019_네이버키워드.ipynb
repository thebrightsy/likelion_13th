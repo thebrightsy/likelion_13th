{
 "cells": [
  {
   "cell_type": "code",
   "execution_count": 118,
   "id": "1d3591dc",
   "metadata": {},
   "outputs": [],
   "source": [
    "import pandas as pd"
   ]
  },
  {
   "cell_type": "code",
   "execution_count": 119,
   "id": "51529311",
   "metadata": {
    "scrolled": true
   },
   "outputs": [
    {
     "data": {
      "text/html": [
       "<div>\n",
       "<style scoped>\n",
       "    .dataframe tbody tr th:only-of-type {\n",
       "        vertical-align: middle;\n",
       "    }\n",
       "\n",
       "    .dataframe tbody tr th {\n",
       "        vertical-align: top;\n",
       "    }\n",
       "\n",
       "    .dataframe thead th {\n",
       "        text-align: right;\n",
       "    }\n",
       "</style>\n",
       "<table border=\"1\" class=\"dataframe\">\n",
       "  <thead>\n",
       "    <tr style=\"text-align: right;\">\n",
       "      <th></th>\n",
       "      <th>연관키워드</th>\n",
       "      <th>월간검색수(PC)</th>\n",
       "      <th>월간검색수(모바일)</th>\n",
       "      <th>월평균클릭수(PC)</th>\n",
       "      <th>월평균클릭수(모바일)</th>\n",
       "      <th>월평균클릭률(PC)</th>\n",
       "      <th>월평균클릭률(모바일)</th>\n",
       "      <th>경쟁정도</th>\n",
       "      <th>월평균노출광고수</th>\n",
       "    </tr>\n",
       "  </thead>\n",
       "  <tbody>\n",
       "    <tr>\n",
       "      <th>0</th>\n",
       "      <td>홈트</td>\n",
       "      <td>4,110</td>\n",
       "      <td>17,000</td>\n",
       "      <td>17.5</td>\n",
       "      <td>249</td>\n",
       "      <td>0.46%</td>\n",
       "      <td>1.55%</td>\n",
       "      <td>높음</td>\n",
       "      <td>15</td>\n",
       "    </tr>\n",
       "    <tr>\n",
       "      <th>1</th>\n",
       "      <td>운동기구</td>\n",
       "      <td>4,180</td>\n",
       "      <td>20,000</td>\n",
       "      <td>41.1</td>\n",
       "      <td>366.5</td>\n",
       "      <td>1.05%</td>\n",
       "      <td>1.96%</td>\n",
       "      <td>높음</td>\n",
       "      <td>15</td>\n",
       "    </tr>\n",
       "    <tr>\n",
       "      <th>2</th>\n",
       "      <td>헬스</td>\n",
       "      <td>6,080</td>\n",
       "      <td>48,500</td>\n",
       "      <td>6.1</td>\n",
       "      <td>46.5</td>\n",
       "      <td>0.11%</td>\n",
       "      <td>0.11%</td>\n",
       "      <td>높음</td>\n",
       "      <td>15</td>\n",
       "    </tr>\n",
       "    <tr>\n",
       "      <th>3</th>\n",
       "      <td>홈트레이닝</td>\n",
       "      <td>3,090</td>\n",
       "      <td>5,600</td>\n",
       "      <td>10.3</td>\n",
       "      <td>91.8</td>\n",
       "      <td>0.35%</td>\n",
       "      <td>1.75%</td>\n",
       "      <td>높음</td>\n",
       "      <td>15</td>\n",
       "    </tr>\n",
       "    <tr>\n",
       "      <th>4</th>\n",
       "      <td>홈트레이닝기구</td>\n",
       "      <td>3,640</td>\n",
       "      <td>16,600</td>\n",
       "      <td>35.2</td>\n",
       "      <td>301.5</td>\n",
       "      <td>1.02%</td>\n",
       "      <td>1.94%</td>\n",
       "      <td>높음</td>\n",
       "      <td>15</td>\n",
       "    </tr>\n",
       "    <tr>\n",
       "      <th>...</th>\n",
       "      <td>...</td>\n",
       "      <td>...</td>\n",
       "      <td>...</td>\n",
       "      <td>...</td>\n",
       "      <td>...</td>\n",
       "      <td>...</td>\n",
       "      <td>...</td>\n",
       "      <td>...</td>\n",
       "      <td>...</td>\n",
       "    </tr>\n",
       "    <tr>\n",
       "      <th>995</th>\n",
       "      <td>구로댄스학원</td>\n",
       "      <td>10</td>\n",
       "      <td>80</td>\n",
       "      <td>0.8</td>\n",
       "      <td>6</td>\n",
       "      <td>4.96%</td>\n",
       "      <td>7.9%</td>\n",
       "      <td>중간</td>\n",
       "      <td>8</td>\n",
       "    </tr>\n",
       "    <tr>\n",
       "      <th>996</th>\n",
       "      <td>구미스쿼시</td>\n",
       "      <td>40</td>\n",
       "      <td>330</td>\n",
       "      <td>0.0</td>\n",
       "      <td>1.4</td>\n",
       "      <td>0%</td>\n",
       "      <td>0.47%</td>\n",
       "      <td>중간</td>\n",
       "      <td>1</td>\n",
       "    </tr>\n",
       "    <tr>\n",
       "      <th>997</th>\n",
       "      <td>중년다이어트</td>\n",
       "      <td>190</td>\n",
       "      <td>2,040</td>\n",
       "      <td>1.5</td>\n",
       "      <td>2</td>\n",
       "      <td>0.84%</td>\n",
       "      <td>0.11%</td>\n",
       "      <td>높음</td>\n",
       "      <td>15</td>\n",
       "    </tr>\n",
       "    <tr>\n",
       "      <th>998</th>\n",
       "      <td>PT후기</td>\n",
       "      <td>240</td>\n",
       "      <td>840</td>\n",
       "      <td>0.2</td>\n",
       "      <td>3.3</td>\n",
       "      <td>0.09%</td>\n",
       "      <td>0.41%</td>\n",
       "      <td>높음</td>\n",
       "      <td>15</td>\n",
       "    </tr>\n",
       "    <tr>\n",
       "      <th>999</th>\n",
       "      <td>SNPE수업</td>\n",
       "      <td>10</td>\n",
       "      <td>30</td>\n",
       "      <td>0.3</td>\n",
       "      <td>0</td>\n",
       "      <td>4.77%</td>\n",
       "      <td>0%</td>\n",
       "      <td>높음</td>\n",
       "      <td>3</td>\n",
       "    </tr>\n",
       "  </tbody>\n",
       "</table>\n",
       "<p>1000 rows × 9 columns</p>\n",
       "</div>"
      ],
      "text/plain": [
       "       연관키워드 월간검색수(PC) 월간검색수(모바일)  월평균클릭수(PC) 월평균클릭수(모바일) 월평균클릭률(PC)  \\\n",
       "0         홈트     4,110     17,000        17.5         249      0.46%   \n",
       "1       운동기구     4,180     20,000        41.1       366.5      1.05%   \n",
       "2         헬스     6,080     48,500         6.1        46.5      0.11%   \n",
       "3      홈트레이닝     3,090      5,600        10.3        91.8      0.35%   \n",
       "4    홈트레이닝기구     3,640     16,600        35.2       301.5      1.02%   \n",
       "..       ...       ...        ...         ...         ...        ...   \n",
       "995   구로댄스학원        10         80         0.8           6      4.96%   \n",
       "996    구미스쿼시        40        330         0.0         1.4         0%   \n",
       "997   중년다이어트       190      2,040         1.5           2      0.84%   \n",
       "998     PT후기       240        840         0.2         3.3      0.09%   \n",
       "999   SNPE수업        10         30         0.3           0      4.77%   \n",
       "\n",
       "    월평균클릭률(모바일) 경쟁정도  월평균노출광고수  \n",
       "0         1.55%   높음        15  \n",
       "1         1.96%   높음        15  \n",
       "2         0.11%   높음        15  \n",
       "3         1.75%   높음        15  \n",
       "4         1.94%   높음        15  \n",
       "..          ...  ...       ...  \n",
       "995        7.9%   중간         8  \n",
       "996       0.47%   중간         1  \n",
       "997       0.11%   높음        15  \n",
       "998       0.41%   높음        15  \n",
       "999          0%   높음         3  \n",
       "\n",
       "[1000 rows x 9 columns]"
      ]
     },
     "execution_count": 119,
     "metadata": {},
     "output_type": "execute_result"
    }
   ],
   "source": [
    "### 홈트, 홈트레이닝, 헬스, 운동기구 4개 월간 연관키워드 1000개 데이터 불러오기\n",
    "data= pd.read_excel(\"키워드_20211019.xlsx\")\n",
    "data"
   ]
  },
  {
   "cell_type": "code",
   "execution_count": 120,
   "id": "e40bc497",
   "metadata": {},
   "outputs": [
    {
     "data": {
      "text/plain": [
       "((1000, 9), (1000, 9), (1000, 9))"
      ]
     },
     "execution_count": 120,
     "metadata": {},
     "output_type": "execute_result"
    }
   ],
   "source": [
    "data.shape, test.shape, train.shape"
   ]
  },
  {
   "cell_type": "code",
   "execution_count": 121,
   "id": "763100e6",
   "metadata": {},
   "outputs": [
    {
     "name": "stdout",
     "output_type": "stream",
     "text": [
      "<class 'pandas.core.frame.DataFrame'>\n",
      "RangeIndex: 1000 entries, 0 to 999\n",
      "Data columns (total 9 columns):\n",
      " #   Column       Non-Null Count  Dtype  \n",
      "---  ------       --------------  -----  \n",
      " 0   연관키워드        1000 non-null   object \n",
      " 1   월간검색수(PC)    1000 non-null   object \n",
      " 2   월간검색수(모바일)   1000 non-null   object \n",
      " 3   월평균클릭수(PC)   1000 non-null   float64\n",
      " 4   월평균클릭수(모바일)  1000 non-null   object \n",
      " 5   월평균클릭률(PC)   1000 non-null   object \n",
      " 6   월평균클릭률(모바일)  1000 non-null   object \n",
      " 7   경쟁정도         1000 non-null   object \n",
      " 8   월평균노출광고수     1000 non-null   int64  \n",
      "dtypes: float64(1), int64(1), object(7)\n",
      "memory usage: 70.4+ KB\n"
     ]
    }
   ],
   "source": [
    "data.info()"
   ]
  },
  {
   "cell_type": "code",
   "execution_count": 122,
   "id": "9da970e1",
   "metadata": {},
   "outputs": [
    {
     "data": {
      "text/html": [
       "<div>\n",
       "<style scoped>\n",
       "    .dataframe tbody tr th:only-of-type {\n",
       "        vertical-align: middle;\n",
       "    }\n",
       "\n",
       "    .dataframe tbody tr th {\n",
       "        vertical-align: top;\n",
       "    }\n",
       "\n",
       "    .dataframe thead th {\n",
       "        text-align: right;\n",
       "    }\n",
       "</style>\n",
       "<table border=\"1\" class=\"dataframe\">\n",
       "  <thead>\n",
       "    <tr style=\"text-align: right;\">\n",
       "      <th></th>\n",
       "      <th>연관키워드</th>\n",
       "      <th>월간검색수(PC)</th>\n",
       "      <th>월간검색수(모바일)</th>\n",
       "      <th>월평균클릭수(PC)</th>\n",
       "      <th>월평균클릭수(모바일)</th>\n",
       "      <th>월평균클릭률(PC)</th>\n",
       "      <th>월평균클릭률(모바일)</th>\n",
       "      <th>경쟁정도</th>\n",
       "      <th>월평균노출광고수</th>\n",
       "    </tr>\n",
       "  </thead>\n",
       "  <tbody>\n",
       "    <tr>\n",
       "      <th>0</th>\n",
       "      <td>홈트</td>\n",
       "      <td>4,110</td>\n",
       "      <td>17,000</td>\n",
       "      <td>17.5</td>\n",
       "      <td>249</td>\n",
       "      <td>0.46%</td>\n",
       "      <td>1.55%</td>\n",
       "      <td>높음</td>\n",
       "      <td>15</td>\n",
       "    </tr>\n",
       "    <tr>\n",
       "      <th>1</th>\n",
       "      <td>운동기구</td>\n",
       "      <td>4,180</td>\n",
       "      <td>20,000</td>\n",
       "      <td>41.1</td>\n",
       "      <td>366.5</td>\n",
       "      <td>1.05%</td>\n",
       "      <td>1.96%</td>\n",
       "      <td>높음</td>\n",
       "      <td>15</td>\n",
       "    </tr>\n",
       "    <tr>\n",
       "      <th>2</th>\n",
       "      <td>헬스</td>\n",
       "      <td>6,080</td>\n",
       "      <td>48,500</td>\n",
       "      <td>6.1</td>\n",
       "      <td>46.5</td>\n",
       "      <td>0.11%</td>\n",
       "      <td>0.11%</td>\n",
       "      <td>높음</td>\n",
       "      <td>15</td>\n",
       "    </tr>\n",
       "    <tr>\n",
       "      <th>3</th>\n",
       "      <td>홈트레이닝</td>\n",
       "      <td>3,090</td>\n",
       "      <td>5,600</td>\n",
       "      <td>10.3</td>\n",
       "      <td>91.8</td>\n",
       "      <td>0.35%</td>\n",
       "      <td>1.75%</td>\n",
       "      <td>높음</td>\n",
       "      <td>15</td>\n",
       "    </tr>\n",
       "    <tr>\n",
       "      <th>4</th>\n",
       "      <td>홈트레이닝기구</td>\n",
       "      <td>3,640</td>\n",
       "      <td>16,600</td>\n",
       "      <td>35.2</td>\n",
       "      <td>301.5</td>\n",
       "      <td>1.02%</td>\n",
       "      <td>1.94%</td>\n",
       "      <td>높음</td>\n",
       "      <td>15</td>\n",
       "    </tr>\n",
       "  </tbody>\n",
       "</table>\n",
       "</div>"
      ],
      "text/plain": [
       "     연관키워드 월간검색수(PC) 월간검색수(모바일)  월평균클릭수(PC) 월평균클릭수(모바일) 월평균클릭률(PC)  \\\n",
       "0       홈트     4,110     17,000        17.5         249      0.46%   \n",
       "1     운동기구     4,180     20,000        41.1       366.5      1.05%   \n",
       "2       헬스     6,080     48,500         6.1        46.5      0.11%   \n",
       "3    홈트레이닝     3,090      5,600        10.3        91.8      0.35%   \n",
       "4  홈트레이닝기구     3,640     16,600        35.2       301.5      1.02%   \n",
       "\n",
       "  월평균클릭률(모바일) 경쟁정도  월평균노출광고수  \n",
       "0       1.55%   높음        15  \n",
       "1       1.96%   높음        15  \n",
       "2       0.11%   높음        15  \n",
       "3       1.75%   높음        15  \n",
       "4       1.94%   높음        15  "
      ]
     },
     "execution_count": 122,
     "metadata": {},
     "output_type": "execute_result"
    }
   ],
   "source": [
    "data.head()"
   ]
  },
  {
   "cell_type": "code",
   "execution_count": 123,
   "id": "700f2122",
   "metadata": {},
   "outputs": [],
   "source": [
    "from sklearn.ensemble import RandomForestRegressor"
   ]
  },
  {
   "cell_type": "code",
   "execution_count": 124,
   "id": "4275bea9",
   "metadata": {},
   "outputs": [],
   "source": [
    "import mglearn\n",
    "import sklearn\n",
    "from sklearn.model_selection import train_test_split\n",
    "from sklearn.linear_model import LinearRegression"
   ]
  },
  {
   "cell_type": "code",
   "execution_count": 125,
   "id": "0d6c55d9",
   "metadata": {},
   "outputs": [],
   "source": [
    "from sklearn.linear_model import LogisticRegression"
   ]
  },
  {
   "cell_type": "code",
   "execution_count": 126,
   "id": "d16fd2e4",
   "metadata": {},
   "outputs": [
    {
     "data": {
      "text/html": [
       "<div>\n",
       "<style scoped>\n",
       "    .dataframe tbody tr th:only-of-type {\n",
       "        vertical-align: middle;\n",
       "    }\n",
       "\n",
       "    .dataframe tbody tr th {\n",
       "        vertical-align: top;\n",
       "    }\n",
       "\n",
       "    .dataframe thead th {\n",
       "        text-align: right;\n",
       "    }\n",
       "</style>\n",
       "<table border=\"1\" class=\"dataframe\">\n",
       "  <thead>\n",
       "    <tr style=\"text-align: right;\">\n",
       "      <th></th>\n",
       "      <th>연관키워드</th>\n",
       "      <th>월간검색수(PC)</th>\n",
       "      <th>월간검색수(모바일)</th>\n",
       "      <th>월평균클릭수(PC)</th>\n",
       "      <th>월평균클릭수(모바일)</th>\n",
       "      <th>월평균클릭률(PC)</th>\n",
       "      <th>월평균클릭률(모바일)</th>\n",
       "      <th>경쟁정도</th>\n",
       "      <th>월평균노출광고수</th>\n",
       "      <th>월평균_PC100</th>\n",
       "      <th>월평균_M100</th>\n",
       "    </tr>\n",
       "  </thead>\n",
       "  <tbody>\n",
       "    <tr>\n",
       "      <th>0</th>\n",
       "      <td>홈트</td>\n",
       "      <td>4110</td>\n",
       "      <td>17000</td>\n",
       "      <td>17.5</td>\n",
       "      <td>249</td>\n",
       "      <td>0.46%</td>\n",
       "      <td>1.55%</td>\n",
       "      <td>높음</td>\n",
       "      <td>15</td>\n",
       "      <td>46.000000</td>\n",
       "      <td>155.0</td>\n",
       "    </tr>\n",
       "    <tr>\n",
       "      <th>1</th>\n",
       "      <td>운동기구</td>\n",
       "      <td>4180</td>\n",
       "      <td>20000</td>\n",
       "      <td>41.1</td>\n",
       "      <td>366.5</td>\n",
       "      <td>1.05%</td>\n",
       "      <td>1.96%</td>\n",
       "      <td>높음</td>\n",
       "      <td>15</td>\n",
       "      <td>104.999992</td>\n",
       "      <td>196.0</td>\n",
       "    </tr>\n",
       "    <tr>\n",
       "      <th>2</th>\n",
       "      <td>헬스</td>\n",
       "      <td>6080</td>\n",
       "      <td>48500</td>\n",
       "      <td>6.1</td>\n",
       "      <td>46.5</td>\n",
       "      <td>0.11%</td>\n",
       "      <td>0.11%</td>\n",
       "      <td>높음</td>\n",
       "      <td>15</td>\n",
       "      <td>11.000000</td>\n",
       "      <td>11.0</td>\n",
       "    </tr>\n",
       "    <tr>\n",
       "      <th>3</th>\n",
       "      <td>홈트레이닝</td>\n",
       "      <td>3090</td>\n",
       "      <td>5600</td>\n",
       "      <td>10.3</td>\n",
       "      <td>91.8</td>\n",
       "      <td>0.35%</td>\n",
       "      <td>1.75%</td>\n",
       "      <td>높음</td>\n",
       "      <td>15</td>\n",
       "      <td>35.000000</td>\n",
       "      <td>175.0</td>\n",
       "    </tr>\n",
       "    <tr>\n",
       "      <th>4</th>\n",
       "      <td>홈트레이닝기구</td>\n",
       "      <td>3640</td>\n",
       "      <td>16600</td>\n",
       "      <td>35.2</td>\n",
       "      <td>301.5</td>\n",
       "      <td>1.02%</td>\n",
       "      <td>1.94%</td>\n",
       "      <td>높음</td>\n",
       "      <td>15</td>\n",
       "      <td>102.000000</td>\n",
       "      <td>194.0</td>\n",
       "    </tr>\n",
       "  </tbody>\n",
       "</table>\n",
       "</div>"
      ],
      "text/plain": [
       "     연관키워드 월간검색수(PC) 월간검색수(모바일)  월평균클릭수(PC) 월평균클릭수(모바일) 월평균클릭률(PC)  \\\n",
       "0       홈트      4110      17000        17.5         249      0.46%   \n",
       "1     운동기구      4180      20000        41.1       366.5      1.05%   \n",
       "2       헬스      6080      48500         6.1        46.5      0.11%   \n",
       "3    홈트레이닝      3090       5600        10.3        91.8      0.35%   \n",
       "4  홈트레이닝기구      3640      16600        35.2       301.5      1.02%   \n",
       "\n",
       "  월평균클릭률(모바일) 경쟁정도  월평균노출광고수   월평균_PC100  월평균_M100  \n",
       "0       1.55%   높음        15   46.000000     155.0  \n",
       "1       1.96%   높음        15  104.999992     196.0  \n",
       "2       0.11%   높음        15   11.000000      11.0  \n",
       "3       1.75%   높음        15   35.000000     175.0  \n",
       "4       1.94%   높음        15  102.000000     194.0  "
      ]
     },
     "execution_count": 126,
     "metadata": {},
     "output_type": "execute_result"
    }
   ],
   "source": [
    "### 월간검색수(PC), 월간검색수(모바일), 월평균클릭수(모바일) 콤마와 특수문자 삭제\n",
    "data['월간검색수(PC)'] = data['월간검색수(PC)'].str.replace('<', '')\n",
    "data['월간검색수(모바일)'] = data['월간검색수(모바일)'].str.replace('<', '')\n",
    "data['월간검색수(PC)'] = data['월간검색수(PC)'].str.replace(',', '')\n",
    "data['월간검색수(모바일)'] = data['월간검색수(모바일)'].str.replace(',', '')\n",
    "#data['월평균클릭수(PC)'] = data['월평균클릭수(PC)'].str.replace(',', '') >> 특수기호 없음\n",
    "data['월평균클릭수(모바일)'] = data['월평균클릭수(모바일)'].str.replace(',', '')\n",
    "\n",
    "### 월평균클릭률(PC) 백분율에서 %떼고 일반수치형으로 변환\n",
    "data['월평균_PC100'] = data['월평균클릭률(PC)'].str.replace('%', '')\n",
    "data['월평균_PC100'] = data['월평균_PC100'].astype(\"float32\") * 100\n",
    "\n",
    "### 월평균클릭률(모바일) 백분율에서 %떼고 일반수치형으로 변환\n",
    "data['월평균_M100'] = data['월평균클릭률(모바일)'].str.replace('%', '')\n",
    "data['월평균_M100'] = data['월평균_M100'].astype(\"float32\") * 100\n",
    "data.head()"
   ]
  },
  {
   "cell_type": "code",
   "execution_count": 148,
   "id": "239b73b2",
   "metadata": {},
   "outputs": [
    {
     "data": {
      "text/plain": [
       "array([4.11e+03, 4.18e+03, 6.08e+03, 3.09e+03, 3.64e+03, 1.00e+03,\n",
       "       6.77e+03, 2.99e+03, 2.30e+02, 3.79e+03, 5.60e+02, 2.90e+03,\n",
       "       2.40e+02, 5.80e+02, 2.02e+04, 4.00e+02, 1.80e+02, 7.00e+01,\n",
       "       3.54e+03, 2.13e+03, 1.20e+02, 2.73e+03, 6.20e+02, 9.60e+02,\n",
       "       1.29e+04, 9.20e+02, 2.10e+02, 3.70e+02, 9.00e+01, 3.00e+02,\n",
       "       1.15e+03, 6.80e+02, 1.40e+02, 4.70e+02, 6.50e+02, 5.20e+02,\n",
       "       2.37e+03, 7.80e+02, 4.08e+03, 9.50e+02, 2.00e+02, 2.05e+04,\n",
       "       1.47e+03, 2.33e+03, 5.00e+01, 6.10e+02, 4.20e+02, 5.40e+02,\n",
       "       3.40e+02, 2.00e+01, 6.00e+01, 1.30e+02, 1.63e+03, 1.10e+02,\n",
       "       3.30e+02, 7.40e+02, 4.50e+02, 4.90e+02, 1.00e+02, 1.00e+01,\n",
       "       8.80e+02, 2.31e+03, 4.00e+01, 2.70e+02, 1.54e+03, 3.00e+01,\n",
       "       6.70e+02, 2.02e+03, 2.90e+02, 8.00e+01, 1.74e+03, 2.78e+03,\n",
       "       1.42e+03, 2.48e+03, 5.90e+02, 1.30e+03, 3.10e+02, 3.80e+02,\n",
       "       4.82e+03, 5.10e+02, 1.31e+03, 2.50e+02, 7.00e+02, 1.14e+03,\n",
       "       8.66e+03, 1.60e+02, 4.80e+02, 4.78e+03, 1.40e+04, 2.80e+02,\n",
       "       1.70e+02, 3.50e+02, 1.90e+02, 1.88e+03, 2.60e+02, 8.40e+02,\n",
       "       1.87e+04, 3.20e+02, 5.50e+02, 1.60e+03, 5.77e+03, 1.28e+03,\n",
       "       8.10e+02, 8.00e+02, 7.10e+02, 1.10e+03, 1.12e+03, 3.03e+03,\n",
       "       1.50e+02, 1.79e+03, 1.06e+03, 3.84e+04, 2.45e+03, 9.93e+03,\n",
       "       1.15e+04, 1.67e+03, 9.70e+02, 8.60e+02, 6.53e+03, 9.47e+03,\n",
       "       2.47e+03, 1.58e+03, 7.33e+03, 5.53e+03, 1.01e+04, 1.09e+03,\n",
       "       1.41e+03, 8.20e+02, 5.57e+03, 3.14e+03, 6.00e+02, 2.92e+03,\n",
       "       3.27e+03, 6.60e+02, 2.34e+03, 1.49e+03, 1.38e+03, 4.40e+02,\n",
       "       2.20e+02, 5.44e+03, 1.23e+03, 4.30e+02, 7.20e+02, 1.50e+03,\n",
       "       1.34e+03, 4.10e+02, 5.30e+02, 1.68e+03, 2.38e+03, 3.90e+02,\n",
       "       5.22e+03, 1.39e+03, 2.70e+03, 1.08e+03, 6.90e+02, 3.60e+02,\n",
       "       6.94e+03, 2.83e+03, 2.14e+03, 6.40e+02, 3.93e+03, 7.70e+02,\n",
       "       8.50e+02, 1.59e+03, 1.25e+03, 1.83e+03, 1.01e+03, 5.70e+02,\n",
       "       6.92e+03, 7.60e+02, 7.30e+02, 1.24e+03, 4.45e+03, 1.69e+03,\n",
       "       3.11e+03, 9.80e+02, 6.30e+02, 4.51e+03, 2.23e+03, 1.27e+03,\n",
       "       2.24e+03, 2.10e+03, 1.56e+03, 7.27e+03, 1.51e+03, 9.30e+02,\n",
       "       5.00e+03, 1.37e+03, 3.86e+03, 4.59e+03, 7.50e+02, 3.23e+03,\n",
       "       3.73e+03, 1.44e+03, 2.20e+03, 2.08e+03, 7.05e+03, 3.08e+03,\n",
       "       2.52e+03, 3.20e+03, 1.94e+04, 2.89e+03, 2.89e+04, 1.04e+03,\n",
       "       3.45e+03, 1.99e+03, 8.70e+02, 1.40e+03], dtype=float32)"
      ]
     },
     "execution_count": 148,
     "metadata": {},
     "output_type": "execute_result"
    }
   ],
   "source": [
    "data['월간검색수(PC)'].unique()"
   ]
  },
  {
   "cell_type": "code",
   "execution_count": 128,
   "id": "5bd1e778",
   "metadata": {},
   "outputs": [],
   "source": [
    "### 월간검색수(PC), 월간검색수(모바일), 월평균클릭수(모바일) 수치형으로 변환\n",
    "data['월간검색수(PC)'] = data['월간검색수(PC)'].astype(\"float32\")\n",
    "data['월간검색수(모바일)'] = data['월간검색수(모바일)'].astype(\"float32\")\n",
    "data['월평균클릭수(모바일)'] = data['월평균클릭수(모바일)'].astype(\"float32\")"
   ]
  },
  {
   "cell_type": "code",
   "execution_count": 160,
   "id": "7ac9d865",
   "metadata": {},
   "outputs": [],
   "source": [
    "### 월평균클릭수(모바일), 월평균클릭률(모바일), 월평균노출광고수 학습 후 월간검색수(모바일) 예측\n",
    "sel=['월평균클릭수(모바일)', '월평균_M100', '월평균노출광고수']\n",
    "X = data[sel]\n",
    "y = data['월간검색수(모바일)']\n",
    "\n",
    "X_train, X_test, y_train, y_test= train_test_split(X, y, random_state=11)"
   ]
  },
  {
   "cell_type": "code",
   "execution_count": 161,
   "id": "83d3a79c",
   "metadata": {},
   "outputs": [
    {
     "name": "stdout",
     "output_type": "stream",
     "text": [
      "<class 'pandas.core.frame.DataFrame'>\n",
      "RangeIndex: 1000 entries, 0 to 999\n",
      "Data columns (total 11 columns):\n",
      " #   Column       Non-Null Count  Dtype  \n",
      "---  ------       --------------  -----  \n",
      " 0   연관키워드        1000 non-null   object \n",
      " 1   월간검색수(PC)    1000 non-null   float32\n",
      " 2   월간검색수(모바일)   1000 non-null   float32\n",
      " 3   월평균클릭수(PC)   1000 non-null   float64\n",
      " 4   월평균클릭수(모바일)  1000 non-null   float32\n",
      " 5   월평균클릭률(PC)   1000 non-null   object \n",
      " 6   월평균클릭률(모바일)  1000 non-null   object \n",
      " 7   경쟁정도         1000 non-null   object \n",
      " 8   월평균노출광고수     1000 non-null   int64  \n",
      " 9   월평균_PC100    1000 non-null   float32\n",
      " 10  월평균_M100     1000 non-null   float32\n",
      "dtypes: float32(5), float64(1), int64(1), object(4)\n",
      "memory usage: 66.5+ KB\n"
     ]
    }
   ],
   "source": [
    "data.info()"
   ]
  },
  {
   "cell_type": "code",
   "execution_count": 162,
   "id": "02e0cf63",
   "metadata": {},
   "outputs": [
    {
     "data": {
      "text/plain": [
       "LinearRegression()"
      ]
     },
     "execution_count": 162,
     "metadata": {},
     "output_type": "execute_result"
    }
   ],
   "source": [
    "model_m=LinearRegression()\n",
    "model_m.fit(X_train, y_train)"
   ]
  },
  {
   "cell_type": "code",
   "execution_count": 163,
   "id": "ba733c17",
   "metadata": {},
   "outputs": [],
   "source": [
    "from sklearn.model_selection import cross_val_score"
   ]
  },
  {
   "cell_type": "code",
   "execution_count": 164,
   "id": "1b3a28f7",
   "metadata": {},
   "outputs": [
    {
     "name": "stdout",
     "output_type": "stream",
     "text": [
      "모바일 교차 검증 점수 : [ 0.25415074 -0.01135461  0.11340247  0.39043303  0.55300884]\n"
     ]
    }
   ],
   "source": [
    "scores = cross_val_score(model_m, X_test, y_test)\n",
    "print(\"모바일 교차 검증 점수 : {}\".format(scores))"
   ]
  },
  {
   "cell_type": "code",
   "execution_count": 165,
   "id": "f188ec18",
   "metadata": {},
   "outputs": [
    {
     "name": "stdout",
     "output_type": "stream",
     "text": [
      "모바일 교차 검증 점수 : [0.81651787 0.25760859 0.8384696  0.84746783 0.88852746]\n"
     ]
    }
   ],
   "source": [
    "model_m=RandomForestRegressor()\n",
    "model_m.fit(X_train, y_train)\n",
    "\n",
    "scores = cross_val_score(model_m, X_test, y_test)\n",
    "print(\"모바일 교차 검증 점수 : {}\".format(scores))"
   ]
  },
  {
   "cell_type": "markdown",
   "id": "41fcb26b",
   "metadata": {},
   "source": [
    "* 월평균클릭수(PC)을 매우 우수하게 예측하는 모델을 만들어 보다. "
   ]
  },
  {
   "cell_type": "code",
   "execution_count": 20,
   "id": "dfc1b501",
   "metadata": {},
   "outputs": [],
   "source": [
    "import pandas as pd"
   ]
  },
  {
   "cell_type": "code",
   "execution_count": 166,
   "id": "e3fd4db1",
   "metadata": {},
   "outputs": [],
   "source": [
    "sel=['월평균클릭수(PC)', '월평균_PC100', '월평균노출광고수']\n",
    "X = data[sel]\n",
    "y = data['월간검색수(PC)']\n",
    "\n",
    "X_train, X_test, y_train, y_test= train_test_split(X, y, random_state=11)"
   ]
  },
  {
   "cell_type": "code",
   "execution_count": 167,
   "id": "a88fdac6",
   "metadata": {},
   "outputs": [
    {
     "name": "stdout",
     "output_type": "stream",
     "text": [
      "<class 'pandas.core.frame.DataFrame'>\n",
      "RangeIndex: 1000 entries, 0 to 999\n",
      "Data columns (total 11 columns):\n",
      " #   Column       Non-Null Count  Dtype  \n",
      "---  ------       --------------  -----  \n",
      " 0   연관키워드        1000 non-null   object \n",
      " 1   월간검색수(PC)    1000 non-null   float32\n",
      " 2   월간검색수(모바일)   1000 non-null   float32\n",
      " 3   월평균클릭수(PC)   1000 non-null   float64\n",
      " 4   월평균클릭수(모바일)  1000 non-null   float32\n",
      " 5   월평균클릭률(PC)   1000 non-null   object \n",
      " 6   월평균클릭률(모바일)  1000 non-null   object \n",
      " 7   경쟁정도         1000 non-null   object \n",
      " 8   월평균노출광고수     1000 non-null   int64  \n",
      " 9   월평균_PC100    1000 non-null   float32\n",
      " 10  월평균_M100     1000 non-null   float32\n",
      "dtypes: float32(5), float64(1), int64(1), object(4)\n",
      "memory usage: 66.5+ KB\n"
     ]
    }
   ],
   "source": [
    "data.info()"
   ]
  },
  {
   "cell_type": "code",
   "execution_count": 168,
   "id": "6f4cc95f",
   "metadata": {},
   "outputs": [
    {
     "data": {
      "text/plain": [
       "LinearRegression()"
      ]
     },
     "execution_count": 168,
     "metadata": {},
     "output_type": "execute_result"
    }
   ],
   "source": [
    "model_pc=LinearRegression()\n",
    "model_pc.fit(X_train, y_train)"
   ]
  },
  {
   "cell_type": "code",
   "execution_count": 169,
   "id": "59703d09",
   "metadata": {},
   "outputs": [],
   "source": [
    "from sklearn.model_selection import cross_val_score"
   ]
  },
  {
   "cell_type": "code",
   "execution_count": 170,
   "id": "e53ef571",
   "metadata": {},
   "outputs": [
    {
     "name": "stdout",
     "output_type": "stream",
     "text": [
      "PC 교차 검증 점수 : [ 0.17941992 -0.02450689 -0.02678458  0.29406809  0.40783723]\n"
     ]
    }
   ],
   "source": [
    "scores = cross_val_score(model_pc, X_test, y_test)\n",
    "print(\"PC 교차 검증 점수 : {}\".format(scores))"
   ]
  },
  {
   "cell_type": "code",
   "execution_count": 171,
   "id": "f06fd846",
   "metadata": {},
   "outputs": [
    {
     "name": "stdout",
     "output_type": "stream",
     "text": [
      "PC 교차 검증 점수 : [ 0.76776633  0.10099953  0.35656093 -1.48059825  0.78727826]\n"
     ]
    }
   ],
   "source": [
    "model_pc=RandomForestRegressor()\n",
    "model_pc.fit(X_train, y_train)\n",
    "\n",
    "scores = cross_val_score(model_pc, X_test, y_test)\n",
    "print(\"PC 교차 검증 점수 : {}\".format(scores))"
   ]
  },
  {
   "cell_type": "code",
   "execution_count": 173,
   "id": "32f017d0",
   "metadata": {},
   "outputs": [
    {
     "data": {
      "text/html": [
       "<div>\n",
       "<style scoped>\n",
       "    .dataframe tbody tr th:only-of-type {\n",
       "        vertical-align: middle;\n",
       "    }\n",
       "\n",
       "    .dataframe tbody tr th {\n",
       "        vertical-align: top;\n",
       "    }\n",
       "\n",
       "    .dataframe thead th {\n",
       "        text-align: right;\n",
       "    }\n",
       "</style>\n",
       "<table border=\"1\" class=\"dataframe\">\n",
       "  <thead>\n",
       "    <tr style=\"text-align: right;\">\n",
       "      <th></th>\n",
       "      <th>월간검색수(PC)</th>\n",
       "      <th>월간검색수(모바일)</th>\n",
       "      <th>월평균클릭수(PC)</th>\n",
       "      <th>월평균클릭수(모바일)</th>\n",
       "      <th>월평균노출광고수</th>\n",
       "      <th>월평균_PC100</th>\n",
       "      <th>월평균_M100</th>\n",
       "    </tr>\n",
       "  </thead>\n",
       "  <tbody>\n",
       "    <tr>\n",
       "      <th>월간검색수(PC)</th>\n",
       "      <td>1.000000</td>\n",
       "      <td>0.887810</td>\n",
       "      <td>0.586529</td>\n",
       "      <td>0.625526</td>\n",
       "      <td>0.129990</td>\n",
       "      <td>-0.071056</td>\n",
       "      <td>-0.093456</td>\n",
       "    </tr>\n",
       "    <tr>\n",
       "      <th>월간검색수(모바일)</th>\n",
       "      <td>0.887810</td>\n",
       "      <td>1.000000</td>\n",
       "      <td>0.632292</td>\n",
       "      <td>0.767407</td>\n",
       "      <td>0.128119</td>\n",
       "      <td>-0.065397</td>\n",
       "      <td>-0.083129</td>\n",
       "    </tr>\n",
       "    <tr>\n",
       "      <th>월평균클릭수(PC)</th>\n",
       "      <td>0.586529</td>\n",
       "      <td>0.632292</td>\n",
       "      <td>1.000000</td>\n",
       "      <td>0.890470</td>\n",
       "      <td>0.120883</td>\n",
       "      <td>0.041880</td>\n",
       "      <td>0.120172</td>\n",
       "    </tr>\n",
       "    <tr>\n",
       "      <th>월평균클릭수(모바일)</th>\n",
       "      <td>0.625526</td>\n",
       "      <td>0.767407</td>\n",
       "      <td>0.890470</td>\n",
       "      <td>1.000000</td>\n",
       "      <td>0.125255</td>\n",
       "      <td>-0.011714</td>\n",
       "      <td>0.059819</td>\n",
       "    </tr>\n",
       "    <tr>\n",
       "      <th>월평균노출광고수</th>\n",
       "      <td>0.129990</td>\n",
       "      <td>0.128119</td>\n",
       "      <td>0.120883</td>\n",
       "      <td>0.125255</td>\n",
       "      <td>1.000000</td>\n",
       "      <td>-0.181643</td>\n",
       "      <td>0.093918</td>\n",
       "    </tr>\n",
       "    <tr>\n",
       "      <th>월평균_PC100</th>\n",
       "      <td>-0.071056</td>\n",
       "      <td>-0.065397</td>\n",
       "      <td>0.041880</td>\n",
       "      <td>-0.011714</td>\n",
       "      <td>-0.181643</td>\n",
       "      <td>1.000000</td>\n",
       "      <td>0.318446</td>\n",
       "    </tr>\n",
       "    <tr>\n",
       "      <th>월평균_M100</th>\n",
       "      <td>-0.093456</td>\n",
       "      <td>-0.083129</td>\n",
       "      <td>0.120172</td>\n",
       "      <td>0.059819</td>\n",
       "      <td>0.093918</td>\n",
       "      <td>0.318446</td>\n",
       "      <td>1.000000</td>\n",
       "    </tr>\n",
       "  </tbody>\n",
       "</table>\n",
       "</div>"
      ],
      "text/plain": [
       "             월간검색수(PC)  월간검색수(모바일)  월평균클릭수(PC)  월평균클릭수(모바일)  월평균노출광고수  \\\n",
       "월간검색수(PC)     1.000000    0.887810    0.586529     0.625526  0.129990   \n",
       "월간검색수(모바일)    0.887810    1.000000    0.632292     0.767407  0.128119   \n",
       "월평균클릭수(PC)    0.586529    0.632292    1.000000     0.890470  0.120883   \n",
       "월평균클릭수(모바일)   0.625526    0.767407    0.890470     1.000000  0.125255   \n",
       "월평균노출광고수      0.129990    0.128119    0.120883     0.125255  1.000000   \n",
       "월평균_PC100    -0.071056   -0.065397    0.041880    -0.011714 -0.181643   \n",
       "월평균_M100     -0.093456   -0.083129    0.120172     0.059819  0.093918   \n",
       "\n",
       "             월평균_PC100  월평균_M100  \n",
       "월간검색수(PC)    -0.071056 -0.093456  \n",
       "월간검색수(모바일)   -0.065397 -0.083129  \n",
       "월평균클릭수(PC)    0.041880  0.120172  \n",
       "월평균클릭수(모바일)  -0.011714  0.059819  \n",
       "월평균노출광고수     -0.181643  0.093918  \n",
       "월평균_PC100     1.000000  0.318446  \n",
       "월평균_M100      0.318446  1.000000  "
      ]
     },
     "execution_count": 173,
     "metadata": {},
     "output_type": "execute_result"
    }
   ],
   "source": [
    "data.corr()"
   ]
  },
  {
   "cell_type": "code",
   "execution_count": null,
   "id": "7b484277",
   "metadata": {},
   "outputs": [],
   "source": [
    "[분석 결과 도출]\n",
    "\n",
    "* 월평균노출광고수에서 '15'(최대값)을 갖는 데이터가 1000개 중에 724개였다.\n",
    "    - 학습된 데이터 값이 지나치게 하나의 값으로 편향되어 있고, 학습된 데이터량과 변수가 많지 않으면 \n",
    "      예측 교차검증 점수가 극단적으로 -값이 나오기도 하고 높은 점수를 내기도 한다.\n",
    "        \n",
    "* PC와 모바일 월간검색수 자체가 높은 양의 상관관계를 나타내기 때문에 머신러닝 정확도가 비슷한 추이를 보인다.\n",
    "    -랜덤포레스트 점수가 편차가 크지만 예측값이 비교적 높게 나오는 편이다.\n",
    "    -모바일 교차 검증 점수 : [ 0.25415074 -0.01135461  0.11340247  0.39043303  0.55300884]\n",
    "    -PC 교차 검증 점수 : [ 0.17941992 -0.02450689 -0.02678458  0.29406809  0.40783723]\n",
    "    -모바일 랜덤포레스트 점수: [0.81651787 0.25760859 0.8384696  0.84746783 0.88852746]\n",
    "    -PC 랜덤포레스트 점수 : [ 0.76776633  0.10099953  0.35656093 -1.48059825  0.78727826]  \n",
    "        \n",
    "* 월평균클릭률과 월간검색수가 약간의 음의 상관관계를 보이는 이유는 \n",
    "    월평균노출광고수에서 '15'(최대값)을 갖는 데이터가 1000개 중에 724개인데 모두 키워드 경쟁강도가 '높음'이었다.\n",
    "    키워드 경쟁강도가 높아지면 광고클릭률도 증가해야하는데 키워드 검색시 광고를 클릭하지 않고 블로그나 이미지 등 기타 컨텐츠로 \n",
    "    빠져나가는 경우가 더 많아서 -값을 보이는 것 같다. 기타 컨텐츠로 유입되는 경우가 얼마나 되는지 추가 분석이 필요하다. \n",
    "    따라서 홈트, 홈트레이닝, 헬스, 운동기구 4개 연관 키워드의 경우 네이버 검색 키워드 광고보다 블로그 또는 기타 광고가 더 효율적일 수 있다. \n",
    "    "
   ]
  }
 ],
 "metadata": {
  "kernelspec": {
   "display_name": "Python 3",
   "language": "python",
   "name": "python3"
  },
  "language_info": {
   "codemirror_mode": {
    "name": "ipython",
    "version": 3
   },
   "file_extension": ".py",
   "mimetype": "text/x-python",
   "name": "python",
   "nbconvert_exporter": "python",
   "pygments_lexer": "ipython3",
   "version": "3.8.8"
  }
 },
 "nbformat": 4,
 "nbformat_minor": 5
}
