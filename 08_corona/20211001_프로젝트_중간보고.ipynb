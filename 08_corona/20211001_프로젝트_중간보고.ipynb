{
 "cells": [
  {
   "cell_type": "code",
   "execution_count": 1,
   "id": "0d7a7eb4",
   "metadata": {
    "scrolled": true
   },
   "outputs": [
    {
     "data": {
      "text/plain": [
       "(194, 1)"
      ]
     },
     "execution_count": 1,
     "metadata": {},
     "output_type": "execute_result"
    }
   ],
   "source": [
    "import pandas as pd\n",
    "corona= pd.read_csv(\"data_merged(2021-09-28).csv\", encoding='cp949')\n",
    "corona.shape"
   ]
  },
  {
   "cell_type": "code",
   "execution_count": 2,
   "id": "484fb664",
   "metadata": {
    "scrolled": true
   },
   "outputs": [
    {
     "name": "stdout",
     "output_type": "stream",
     "text": [
      "<class 'pandas.core.frame.DataFrame'>\n",
      "RangeIndex: 194 entries, 0 to 193\n",
      "Data columns (total 1 columns):\n",
      " #   Column                                                                                                                                                                          Non-Null Count  Dtype \n",
      "---  ------                                                                                                                                                                          --------------  ----- \n",
      " 0   국가\t국가코드\t확진자\t치료중\t위중증\t사망자\t완치\t치명(%)\t완치(%)\t발생률\t인구수\tCountries and regions\tDoses administered\tEnough for % of people\tgiven 1+ dose\tfully vaccinated\tDaily rate of doses administered  194 non-null    object\n",
      "dtypes: object(1)\n",
      "memory usage: 1.6+ KB\n"
     ]
    }
   ],
   "source": [
    "corona.info()"
   ]
  },
  {
   "cell_type": "code",
   "execution_count": 3,
   "id": "b56ae836",
   "metadata": {},
   "outputs": [
    {
     "data": {
      "text/html": [
       "<div>\n",
       "<style scoped>\n",
       "    .dataframe tbody tr th:only-of-type {\n",
       "        vertical-align: middle;\n",
       "    }\n",
       "\n",
       "    .dataframe tbody tr th {\n",
       "        vertical-align: top;\n",
       "    }\n",
       "\n",
       "    .dataframe thead th {\n",
       "        text-align: right;\n",
       "    }\n",
       "</style>\n",
       "<table border=\"1\" class=\"dataframe\">\n",
       "  <thead>\n",
       "    <tr style=\"text-align: right;\">\n",
       "      <th></th>\n",
       "      <th>국가\\t국가코드\\t확진자\\t치료중\\t위중증\\t사망자\\t완치\\t치명(%)\\t완치(%)\\t발생률\\t인구수\\tCountries and regions\\tDoses administered\\tEnough for % of people\\tgiven 1+ dose\\tfully vaccinated\\tDaily rate of doses administered</th>\n",
       "    </tr>\n",
       "  </thead>\n",
       "  <tbody>\n",
       "    <tr>\n",
       "      <th>0</th>\n",
       "      <td>미국\\t????\\t43942335\\t9838383\\t21819\\t709119\\t33...</td>\n",
       "    </tr>\n",
       "    <tr>\n",
       "      <th>1</th>\n",
       "      <td>인도\\t????\\t33714241\\t289782\\t8944\\t447699\\t3297...</td>\n",
       "    </tr>\n",
       "    <tr>\n",
       "      <th>2</th>\n",
       "      <td>브라질\\t????\\t21366395\\t410502\\t8318\\t594702\\t203...</td>\n",
       "    </tr>\n",
       "    <tr>\n",
       "      <th>3</th>\n",
       "      <td>영국\\t????\\t7701715\\t1346396\\t878\\t136208\\t62191...</td>\n",
       "    </tr>\n",
       "    <tr>\n",
       "      <th>4</th>\n",
       "      <td>러시아\\t????\\t7464708\\t623692\\t2300\\t205531\\t6635...</td>\n",
       "    </tr>\n",
       "  </tbody>\n",
       "</table>\n",
       "</div>"
      ],
      "text/plain": [
       "  국가\\t국가코드\\t확진자\\t치료중\\t위중증\\t사망자\\t완치\\t치명(%)\\t완치(%)\\t발생률\\t인구수\\tCountries and regions\\tDoses administered\\tEnough for % of people\\tgiven 1+ dose\\tfully vaccinated\\tDaily rate of doses administered\n",
       "0  미국\\t????\\t43942335\\t9838383\\t21819\\t709119\\t33...                                                                                                                                            \n",
       "1  인도\\t????\\t33714241\\t289782\\t8944\\t447699\\t3297...                                                                                                                                            \n",
       "2  브라질\\t????\\t21366395\\t410502\\t8318\\t594702\\t203...                                                                                                                                            \n",
       "3  영국\\t????\\t7701715\\t1346396\\t878\\t136208\\t62191...                                                                                                                                            \n",
       "4  러시아\\t????\\t7464708\\t623692\\t2300\\t205531\\t6635...                                                                                                                                            "
      ]
     },
     "execution_count": 3,
     "metadata": {},
     "output_type": "execute_result"
    }
   ],
   "source": [
    "corona.head()"
   ]
  },
  {
   "cell_type": "code",
   "execution_count": 4,
   "id": "932a94bc",
   "metadata": {},
   "outputs": [],
   "source": [
    "import plotly\n",
    "import cufflinks as cf\n",
    "import pandas as pd\n",
    "import numpy as np"
   ]
  },
  {
   "cell_type": "code",
   "execution_count": 5,
   "id": "fcc4bddf",
   "metadata": {},
   "outputs": [
    {
     "data": {
      "text/html": [
       "        <script type=\"text/javascript\">\n",
       "        window.PlotlyConfig = {MathJaxConfig: 'local'};\n",
       "        if (window.MathJax) {MathJax.Hub.Config({SVG: {font: \"STIX-Web\"}});}\n",
       "        if (typeof require !== 'undefined') {\n",
       "        require.undef(\"plotly\");\n",
       "        requirejs.config({\n",
       "            paths: {\n",
       "                'plotly': ['https://cdn.plot.ly/plotly-2.4.2.min']\n",
       "            }\n",
       "        });\n",
       "        require(['plotly'], function(Plotly) {\n",
       "            window._Plotly = Plotly;\n",
       "        });\n",
       "        }\n",
       "        </script>\n",
       "        "
      ]
     },
     "metadata": {},
     "output_type": "display_data"
    },
    {
     "data": {
      "text/html": [
       "        <script type=\"text/javascript\">\n",
       "        window.PlotlyConfig = {MathJaxConfig: 'local'};\n",
       "        if (window.MathJax) {MathJax.Hub.Config({SVG: {font: \"STIX-Web\"}});}\n",
       "        if (typeof require !== 'undefined') {\n",
       "        require.undef(\"plotly\");\n",
       "        requirejs.config({\n",
       "            paths: {\n",
       "                'plotly': ['https://cdn.plot.ly/plotly-2.4.2.min']\n",
       "            }\n",
       "        });\n",
       "        require(['plotly'], function(Plotly) {\n",
       "            window._Plotly = Plotly;\n",
       "        });\n",
       "        }\n",
       "        </script>\n",
       "        "
      ]
     },
     "metadata": {},
     "output_type": "display_data"
    }
   ],
   "source": [
    "# 오프라인 모드에서도 인터렉티브한 그래픽을 가능하도록 하기\n",
    "# Enabling the offline mode for interactive plotting locally\n",
    "from plotly.offline import download_plotlyjs,init_notebook_mode,plot,iplot\n",
    "init_notebook_mode(connected=True)\n",
    "cf.go_offline()"
   ]
  },
  {
   "cell_type": "code",
   "execution_count": 6,
   "id": "cbead1c4",
   "metadata": {},
   "outputs": [
    {
     "ename": "KeyError",
     "evalue": "\"None of ['Countries and regions'] are in the columns\"",
     "output_type": "error",
     "traceback": [
      "\u001b[1;31m---------------------------------------------------------------------------\u001b[0m",
      "\u001b[1;31mKeyError\u001b[0m                                  Traceback (most recent call last)",
      "\u001b[1;32m<ipython-input-6-69c7828aabee>\u001b[0m in \u001b[0;36m<module>\u001b[1;34m\u001b[0m\n\u001b[0;32m      1\u001b[0m \u001b[1;31m#국가별 백신보유량 >> 위도, 경도 찍어서 지도로 시각화해야 함\u001b[0m\u001b[1;33m\u001b[0m\u001b[1;33m\u001b[0m\u001b[1;33m\u001b[0m\u001b[0m\n\u001b[1;32m----> 2\u001b[1;33m \u001b[0mcorona\u001b[0m\u001b[1;33m.\u001b[0m\u001b[0miplot\u001b[0m\u001b[1;33m(\u001b[0m\u001b[0mkind\u001b[0m\u001b[1;33m=\u001b[0m\u001b[1;34m'bar'\u001b[0m\u001b[1;33m,\u001b[0m \u001b[0mx\u001b[0m\u001b[1;33m=\u001b[0m\u001b[1;34m'Countries and regions'\u001b[0m\u001b[1;33m,\u001b[0m \u001b[0my\u001b[0m\u001b[1;33m=\u001b[0m\u001b[1;34m'Doses administered'\u001b[0m\u001b[1;33m)\u001b[0m\u001b[1;33m\u001b[0m\u001b[1;33m\u001b[0m\u001b[0m\n\u001b[0m",
      "\u001b[1;32m~\\anaconda3\\lib\\site-packages\\cufflinks\\plotlytools.py\u001b[0m in \u001b[0;36m_iplot\u001b[1;34m(self, kind, data, layout, filename, sharing, title, xTitle, yTitle, zTitle, theme, colors, colorscale, fill, width, dash, mode, interpolation, symbol, size, barmode, sortbars, bargap, bargroupgap, bins, histnorm, histfunc, orientation, boxpoints, annotations, keys, bestfit, bestfit_colors, mean, mean_colors, categories, x, y, z, text, gridcolor, zerolinecolor, margin, labels, values, secondary_y, secondary_y_title, subplots, shape, error_x, error_y, error_type, locations, lon, lat, asFrame, asDates, asFigure, asImage, dimensions, asPlot, asUrl, online, **kwargs)\u001b[0m\n\u001b[0;32m    824\u001b[0m                                         \u001b[0mdf\u001b[0m\u001b[1;33m=\u001b[0m\u001b[0mpd\u001b[0m\u001b[1;33m.\u001b[0m\u001b[0mDataFrame\u001b[0m\u001b[1;33m(\u001b[0m\u001b[1;33m{\u001b[0m\u001b[0mdf\u001b[0m\u001b[1;33m.\u001b[0m\u001b[0mname\u001b[0m\u001b[1;33m:\u001b[0m\u001b[0mdf\u001b[0m\u001b[1;33m}\u001b[0m\u001b[1;33m)\u001b[0m\u001b[1;33m\u001b[0m\u001b[1;33m\u001b[0m\u001b[0m\n\u001b[0;32m    825\u001b[0m                                 \u001b[1;32mif\u001b[0m \u001b[0mx\u001b[0m\u001b[1;33m:\u001b[0m\u001b[1;33m\u001b[0m\u001b[1;33m\u001b[0m\u001b[0m\n\u001b[1;32m--> 826\u001b[1;33m                                         \u001b[0mdf\u001b[0m\u001b[1;33m=\u001b[0m\u001b[0mdf\u001b[0m\u001b[1;33m.\u001b[0m\u001b[0mset_index\u001b[0m\u001b[1;33m(\u001b[0m\u001b[0mx\u001b[0m\u001b[1;33m)\u001b[0m\u001b[1;33m\u001b[0m\u001b[1;33m\u001b[0m\u001b[0m\n\u001b[0m\u001b[0;32m    827\u001b[0m                                 \u001b[1;32mif\u001b[0m \u001b[0my\u001b[0m \u001b[1;32mand\u001b[0m \u001b[0msecondary_y\u001b[0m\u001b[1;33m:\u001b[0m\u001b[1;33m\u001b[0m\u001b[1;33m\u001b[0m\u001b[0m\n\u001b[0;32m    828\u001b[0m                                         \u001b[0m_y\u001b[0m \u001b[1;33m=\u001b[0m \u001b[1;33m[\u001b[0m\u001b[0my\u001b[0m\u001b[1;33m]\u001b[0m \u001b[1;32mif\u001b[0m \u001b[1;32mnot\u001b[0m \u001b[0misinstance\u001b[0m\u001b[1;33m(\u001b[0m\u001b[0my\u001b[0m\u001b[1;33m,\u001b[0m \u001b[0mlist\u001b[0m\u001b[1;33m)\u001b[0m \u001b[1;32melse\u001b[0m \u001b[0my\u001b[0m\u001b[1;33m\u001b[0m\u001b[1;33m\u001b[0m\u001b[0m\n",
      "\u001b[1;32m~\\anaconda3\\lib\\site-packages\\pandas\\core\\frame.py\u001b[0m in \u001b[0;36mset_index\u001b[1;34m(self, keys, drop, append, inplace, verify_integrity)\u001b[0m\n\u001b[0;32m   4725\u001b[0m \u001b[1;33m\u001b[0m\u001b[0m\n\u001b[0;32m   4726\u001b[0m         \u001b[1;32mif\u001b[0m \u001b[0mmissing\u001b[0m\u001b[1;33m:\u001b[0m\u001b[1;33m\u001b[0m\u001b[1;33m\u001b[0m\u001b[0m\n\u001b[1;32m-> 4727\u001b[1;33m             \u001b[1;32mraise\u001b[0m \u001b[0mKeyError\u001b[0m\u001b[1;33m(\u001b[0m\u001b[1;34mf\"None of {missing} are in the columns\"\u001b[0m\u001b[1;33m)\u001b[0m\u001b[1;33m\u001b[0m\u001b[1;33m\u001b[0m\u001b[0m\n\u001b[0m\u001b[0;32m   4728\u001b[0m \u001b[1;33m\u001b[0m\u001b[0m\n\u001b[0;32m   4729\u001b[0m         \u001b[1;32mif\u001b[0m \u001b[0minplace\u001b[0m\u001b[1;33m:\u001b[0m\u001b[1;33m\u001b[0m\u001b[1;33m\u001b[0m\u001b[0m\n",
      "\u001b[1;31mKeyError\u001b[0m: \"None of ['Countries and regions'] are in the columns\""
     ]
    }
   ],
   "source": [
    "#국가별 백신보유량 >> 위도, 경도 찍어서 지도로 시각화해야 함 \n",
    "corona.iplot(kind='bar', x='Countries and regions', y='Doses administered') "
   ]
  },
  {
   "cell_type": "code",
   "execution_count": null,
   "id": "5dfb9be0",
   "metadata": {},
   "outputs": [],
   "source": [
    "corona.columns"
   ]
  },
  {
   "cell_type": "code",
   "execution_count": null,
   "id": "56200b71",
   "metadata": {},
   "outputs": [],
   "source": [
    "corona.isnull().sum()"
   ]
  },
  {
   "cell_type": "code",
   "execution_count": null,
   "id": "07a4bbfb",
   "metadata": {},
   "outputs": [],
   "source": [
    "#완치(%), fully vaccinated 2차 접종자수를 숫자형으로 데이터 형변환 해야한다.\n",
    "corona_num = corona.iloc[:, 1:]\n",
    "corona_num.columns"
   ]
  },
  {
   "cell_type": "code",
   "execution_count": null,
   "id": "ec5ae342",
   "metadata": {},
   "outputs": [],
   "source": [
    "#완치(%) 숫자형으로 형 변환\n",
    "corona['완치(%)'] = corona['완치(%)'].astype('float32')"
   ]
  },
  {
   "cell_type": "code",
   "execution_count": null,
   "id": "f507e697",
   "metadata": {},
   "outputs": [],
   "source": [
    "#치명(%) 숫자형으로 형 변환해야되는데 '-'기호때문에 에러 발생. 행을 드롭해야한다.\n",
    "corona.drop(corona.index[-1, -2, -3, -4, -6, -7, -9],inplace=True)"
   ]
  },
  {
   "cell_type": "code",
   "execution_count": null,
   "id": "861f6649",
   "metadata": {},
   "outputs": [],
   "source": [
    "corona['치명(%)'] = corona['치명(%)'].astype('float32')"
   ]
  },
  {
   "cell_type": "code",
   "execution_count": null,
   "id": "f15706af",
   "metadata": {
    "scrolled": false
   },
   "outputs": [],
   "source": [
    "#미크로네시아 '-'기호때문에 에러 발생. 행을 드롭해야한다.\n",
    "corona.drop(corona.index[-1],inplace=True)"
   ]
  },
  {
   "cell_type": "code",
   "execution_count": null,
   "id": "b5e75910",
   "metadata": {},
   "outputs": [],
   "source": [
    "#fully vaccinated 다시 숫자형으로 형변환\n",
    "corona['fully vaccinated'] = corona['fully vaccinated'].astype('float32')"
   ]
  },
  {
   "cell_type": "code",
   "execution_count": null,
   "id": "bbdc041d",
   "metadata": {
    "scrolled": true
   },
   "outputs": [],
   "source": [
    "#마지막열 미크로네시아 드롭 확인\n",
    "corona.tail()"
   ]
  },
  {
   "cell_type": "code",
   "execution_count": null,
   "id": "400fe63e",
   "metadata": {},
   "outputs": [],
   "source": [
    "#fully vaccinated - float32 확인\n",
    "corona.info()"
   ]
  },
  {
   "cell_type": "code",
   "execution_count": null,
   "id": "d4c493ee",
   "metadata": {
    "scrolled": true
   },
   "outputs": [],
   "source": [
    "#각 변수별 상관관계를 알아본다\n",
    "corona.corr()"
   ]
  },
  {
   "cell_type": "code",
   "execution_count": null,
   "id": "028167c5",
   "metadata": {
    "scrolled": true
   },
   "outputs": [],
   "source": [
    "[가설1] 백신보유량이 많으면 확진자수가 적을까? \n",
    "-정부에서 백신 수급일정을 발표하면 사람들의 심리가 빨리 백신을 맞고 싶어질까?\n",
    "-이러한 기대심리가 1차접종자수, 2차접종자수, 하루 접종자수와 어떤 상관관계를 가질까?\n",
    "*특정 날짜 기준 국가별로 백신보유량과 확진자수의 상관관계가 어떤 추이를 보이는지 살펴본다.\n",
    "\n",
    ">>상관관계 0.35 / 백신보유량이 많다고해서 확진자수가 적은 것은 아니다.\n",
    "Q. 그렇다면 백신보유량과 1차, 2차 접종자수 상관관계가 어떻게 될까?\n",
    "    백신보유량:1차 접종자수=0.13 \n",
    "    백신보유량:2차 접종자수=0.12\n",
    "\n",
    "거의 상관관계가 없다. 백신보유량이 늘어난다고 해도 1차, 2차 접종자수에 바로 반영될 수가 없다.\n",
    "국가별 의료시스템, 의료진 수, 백신공급 속도 등 접종하는 데까지 다양한 상황변수들에 의해 시간이 소요된다.\n",
    "백신보유량과 확진자수의 상관관계를 정확히 보려면 \n",
    "시간이 지남에따라 1차, 2차 접종자수가 얼만큼 빨리 늘어나는지도 확인해봐야하고,\n",
    "추후 확진자수가 얼만큼 줄어들었는지 데이터 추이를 봐야 알 수 있다.(시계열데이터 필요)\n",
    "\n",
    ">>결론: 백신보유량과 1차, 2차 접종자수는 거의 상관이 없다. 특정 시점에서 확인할 수 있는 데이터는 아니다.\n",
    "    \n",
    "Q. 그렇다면 백신보유량과 하루 접종자수의 상관관계는 어떨까?\n",
    "   백신보유량:하루 접종자수=0.66\n",
    "\n",
    "상관관계가 강한 편이다.\n",
    "특정 시점에 백신보유량이 많다는 것은 당일 접종 할 수 있는 양이 많다는 것을 의미한다.\n",
    "이 변수 역시 국가별 의료시스템, 의료진 수, 백신공급 속도 등 여러가지 변수의 영향을 받겠지만\n",
    "모든 국가가 최대한 빠른 시일내에 접종자수를 늘리려고 하고 있으므로 높은 상관관계가 나타난다.\n",
    "\n",
    ">>결론: 백신보유량이 많으면 하루접종자수가 많다."
   ]
  },
  {
   "cell_type": "code",
   "execution_count": null,
   "id": "7b648ca1",
   "metadata": {},
   "outputs": [],
   "source": [
    "#상관관계를 그래프로 그려보자\n",
    "import seaborn as sns \n",
    "import matplotlib.pyplot as plt\n",
    "from matplotlib import font_manager, rc \n",
    "import matplotlib \n",
    "import platform"
   ]
  },
  {
   "cell_type": "code",
   "execution_count": null,
   "id": "e5e84ebb",
   "metadata": {},
   "outputs": [],
   "source": [
    "path = \"C:/Windows/Fonts/malgun.ttf\"\n",
    "if platform.system() == \"Windows\":\n",
    " font_name = font_manager.FontProperties(fname=path).get_name()\n",
    " rc('font', family=font_name)\n",
    "elif platform.system()==\"Darwin\":\n",
    " rc('font', family='AppleGothic')\n",
    "else:\n",
    " print(\"Unknown System\")\n",
    " \n",
    "matplotlib.rcParams['axes.unicode_minus'] = False"
   ]
  },
  {
   "cell_type": "code",
   "execution_count": null,
   "id": "bff2b0a5",
   "metadata": {},
   "outputs": [],
   "source": [
    "#백신보유량과 하루 접종자수의 상관관계= 0.66\n",
    "sns.lmplot(x='Daily rate of doses administered', y='Doses administered', data=corona)"
   ]
  },
  {
   "cell_type": "code",
   "execution_count": null,
   "id": "60f623a8",
   "metadata": {},
   "outputs": [],
   "source": [
    "[가설2] 인구대비 백신보유량이 많으면 치료중인 환자수와 완치율이 늘어나고 위중증 환자수와 치명률, 발생률이 줄어들까?\n",
    "-백신은 확진되기 전에 맞는 것인데 백신보유량이 치료중이나 위중증 환자수와 상관관계가 있을까?\n",
    "*치료중인 환자에게 백신을 투여하는 국가도 있는지 찾아본다.\n",
    "    인구대비 백신보유량:치료중=0.07\n",
    "    인구대비 백신보유량:완치율=0.13\n",
    "    인구대비 백신보유량:위중증=0.04\n",
    "    인구대비 백신보유량:치명률=\n",
    "    인구대비 백신보유량:발생률=0.55\n",
    "-인구대비 백신보유량이 많으면 사람들이 오히려 늦게 맞아도 괜찮다고 생각해서 접종을 미루려고 하지 않을까? \n",
    "1차접종자수, 2차접종자수, 하루 접종자수와 어떤 상관관계가 있을까?\n",
    "    인구대비 백신보유량:1차 접종자수=0.97\n",
    "    인구대비 백신보유량:2차 접종자수=  \n",
    "    인구대비 백신보유량:하루 접종자수=0.03\n",
    "        \n",
    "Q. 그 외에 강한 상관관계가 있는 변수들은 어떤 것들이 있을까?\n",
    "    인구대비 백신보유량:발생률=0.55\n",
    "    인구대비 백신보유량:Enough for % of people=0.99\n"
   ]
  },
  {
   "cell_type": "code",
   "execution_count": null,
   "id": "0044293a",
   "metadata": {},
   "outputs": [],
   "source": [
    "#인구대비 백신보유량 컬럼을 추가해보자\n",
    "#백신보유량/인구수\n",
    "corona['인구대비 백신보유량'] = corona['Doses administered'] / corona['인구수']\n",
    "corona"
   ]
  },
  {
   "cell_type": "code",
   "execution_count": null,
   "id": "694af940",
   "metadata": {},
   "outputs": [],
   "source": [
    "#인구대비 백신보유량이 추가된 상관관계 확인\n",
    "corona.corr()"
   ]
  },
  {
   "cell_type": "code",
   "execution_count": null,
   "id": "195ccda8",
   "metadata": {},
   "outputs": [],
   "source": [
    "corona.info()"
   ]
  },
  {
   "cell_type": "code",
   "execution_count": null,
   "id": "08772b08",
   "metadata": {},
   "outputs": [],
   "source": []
  }
 ],
 "metadata": {
  "kernelspec": {
   "display_name": "Python 3",
   "language": "python",
   "name": "python3"
  },
  "language_info": {
   "codemirror_mode": {
    "name": "ipython",
    "version": 3
   },
   "file_extension": ".py",
   "mimetype": "text/x-python",
   "name": "python",
   "nbconvert_exporter": "python",
   "pygments_lexer": "ipython3",
   "version": "3.8.8"
  }
 },
 "nbformat": 4,
 "nbformat_minor": 5
}
