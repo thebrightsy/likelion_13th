{
 "cells": [
  {
   "cell_type": "code",
   "execution_count": 3,
   "id": "844c5f38",
   "metadata": {},
   "outputs": [
    {
     "name": "stdout",
     "output_type": "stream",
     "text": [
      "span\n",
      "조회수 235,673회\n"
     ]
    }
   ],
   "source": [
    "from selenium import webdriver\n",
    "import time\n",
    "\n",
    "url=\"https://www.youtube.com/watch?v=umpsXnXNkos\"\n",
    "# page=urlopen(url)\n",
    "# soup=BeautifulSoup(page, 'html.parser')\n",
    "# print(soup.title)\n",
    "\n",
    "driver = webdriver.Chrome(\"chromedriver_93\")\n",
    "driver.get(url)"
   ]
  },
  {
   "cell_type": "code",
   "execution_count": 7,
   "id": "e74a36ae",
   "metadata": {},
   "outputs": [],
   "source": [
    "from bs4 import BeautifulSoup"
   ]
  },
  {
   "cell_type": "code",
   "execution_count": 8,
   "id": "6b1236b1",
   "metadata": {},
   "outputs": [
    {
     "data": {
      "text/plain": [
       "<title>인공지능의 주인이 되기 위해 반드시 알아야 할 것들 | 오혜연 KAIST 전산학부 교수 | 인공지능 AI 미래 강연 | 세바시 951회 - YouTube</title>"
      ]
     },
     "execution_count": 8,
     "metadata": {},
     "output_type": "execute_result"
    }
   ],
   "source": [
    "#제목 가져오기\n",
    "\n",
    "page = driver.page_source\n",
    "soup = BeautifulSoup(page, 'lxml')\n",
    "soup.title"
   ]
  },
  {
   "cell_type": "code",
   "execution_count": 63,
   "id": "04524ced",
   "metadata": {},
   "outputs": [
    {
     "data": {
      "text/plain": [
       "'조회수 235,673회'"
      ]
     },
     "execution_count": 63,
     "metadata": {},
     "output_type": "execute_result"
    }
   ],
   "source": [
    "#조회수\n",
    "soup.find(\"span\", class_=\"view-count style-scope ytd-video-view-count-renderer\").text"
   ]
  },
  {
   "cell_type": "code",
   "execution_count": 16,
   "id": "ffbda2bc",
   "metadata": {},
   "outputs": [
    {
     "data": {
      "text/plain": [
       "'구독자 135만명'"
      ]
     },
     "execution_count": 16,
     "metadata": {},
     "output_type": "execute_result"
    }
   ],
   "source": [
    "#구독자수\n",
    "soup.find(\"yt-formatted-string\", id=\"owner-sub-count\").text"
   ]
  },
  {
   "cell_type": "code",
   "execution_count": 75,
   "id": "e23f4aa1",
   "metadata": {},
   "outputs": [
    {
     "data": {
      "text/plain": [
       "'좋아요 3,670개'"
      ]
     },
     "execution_count": 75,
     "metadata": {},
     "output_type": "execute_result"
    }
   ],
   "source": [
    "#좋아요\n",
    "like = soup.find(\"yt-formatted-string\",class_=\"style-scope ytd-toggle-button-renderer style-text\")\n",
    "like['aria-label']"
   ]
  },
  {
   "cell_type": "code",
   "execution_count": 96,
   "id": "eb2af019",
   "metadata": {},
   "outputs": [
    {
     "data": {
      "text/plain": [
       "<yt-formatted-string aria-label=\"싫어요 206개\" class=\"style-scope ytd-toggle-button-renderer style-text\" id=\"text\">206</yt-formatted-string>"
      ]
     },
     "execution_count": 96,
     "metadata": {},
     "output_type": "execute_result"
    }
   ],
   "source": [
    "#싫어요\n",
    "hate  = soup.find_all(\"yt-formatted-string\", class_='style-scope ytd-toggle-button-renderer style-text')\n",
    "len(hate)\n",
    "hate[1]"
   ]
  },
  {
   "cell_type": "code",
   "execution_count": 27,
   "id": "19fb2711",
   "metadata": {},
   "outputs": [
    {
     "data": {
      "text/plain": [
       "'와 설명 너무 좋네요 마지막에 목적 , 배움, 활용  이것도 너무 인상깊습니다. 감사합니다.'"
      ]
     },
     "execution_count": 27,
     "metadata": {},
     "output_type": "execute_result"
    }
   ],
   "source": [
    "#댓글 하나 가져오기\n",
    "soup.find(\"yt-formatted-string\", id=\"content-text\").text"
   ]
  },
  {
   "cell_type": "code",
   "execution_count": 73,
   "id": "2ab2e99f",
   "metadata": {},
   "outputs": [],
   "source": [
    "#댓글 1페이지 가져오기\n",
    "soup.find(\"yt-formatted-string\", id=\"content-text\").find(\"yt-formatted-string\",class_=\"style-scope ytd-comment-renderer\")"
   ]
  },
  {
   "cell_type": "code",
   "execution_count": null,
   "id": "a885d991",
   "metadata": {},
   "outputs": [],
   "source": [
    "#페이지 소스 가져오기 및 파싱\n",
    "url = \"https://www.youtube.com/watch?v=umpsXnXNkos\"\n",
    "page = urlopen(url)\n",
    "soup = BeautifulSoup(page, 'lxml')\n",
    "print(soup.title)\n",
    "\n",
    "## 댓글 여러 페이지 가져오기\n",
    "\n",
    "comment_all=[]\n",
    "for i in range\n",
    "\n",
    "## wordcloud 시각화파일 만들기\n",
    "\n",
    "dict_dat = {\"채널1댓글\":comment_all}\n",
    "dat = pd.DataFrame(dict_dat)\n",
    "print(dat)\n",
    "dat.to_csv(\"채널1댓글.csv\", index=False)\n",
    "dat.to_excel(\"채널1댓글.xlsx\", index=False)\n",
    "\n",
    "import wordcloud\n",
    "from wordcloud import WordCloud\n",
    "from matplotlib import rc\n",
    "print(wordcloud.__version__)\n",
    "\n",
    "## 파일 읽기 함수 - open()\n",
    "\n",
    "f = open(\"채널1댓글.csv\", encoding='utf-8')\n",
    "text = f.read()\n",
    "print(text)\n",
    "f.close()\n",
    "rc('font', family=\"NanumGothic\")\n",
    "\n",
    "wcloud=WordCloud('./data/D2coding.ttf',\n",
    "\t\t        max_words=1000,\n",
    "\t\t        relative_scaling=0.2).generate(text)\n",
    "\n",
    "import matplotlib.pyplot as plt\n",
    "plt.figure(figsize=(12,12))\n",
    "plt.imshow(wcloud, interpolation='bilinear')\n",
    "plt.axis('off')\n",
    "plt.show()"
   ]
  }
 ],
 "metadata": {
  "kernelspec": {
   "display_name": "Python 3",
   "language": "python",
   "name": "python3"
  },
  "language_info": {
   "codemirror_mode": {
    "name": "ipython",
    "version": 3
   },
   "file_extension": ".py",
   "mimetype": "text/x-python",
   "name": "python",
   "nbconvert_exporter": "python",
   "pygments_lexer": "ipython3",
   "version": "3.8.8"
  }
 },
 "nbformat": 4,
 "nbformat_minor": 5
}
